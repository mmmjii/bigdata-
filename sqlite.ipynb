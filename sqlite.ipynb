{
  "nbformat": 4,
  "nbformat_minor": 0,
  "metadata": {
    "colab": {
      "provenance": []
    },
    "kernelspec": {
      "name": "python3",
      "display_name": "Python 3"
    },
    "language_info": {
      "name": "python"
    }
  },
  "cells": [
    {
      "cell_type": "code",
      "execution_count": 1,
      "metadata": {
        "colab": {
          "base_uri": "https://localhost:8080/"
        },
        "id": "lWhJFcSpACCr",
        "outputId": "ac431dca-fe69-434c-96db-9cb2c11e89f3"
      },
      "outputs": [
        {
          "output_type": "stream",
          "name": "stdout",
          "text": [
            "Drive already mounted at /content/drive; to attempt to forcibly remount, call drive.mount(\"/content/drive\", force_remount=True).\n"
          ]
        }
      ],
      "source": [
        "from google.colab import drive\n",
        "drive.mount('/content/drive')"
      ]
    },
    {
      "cell_type": "code",
      "source": [
        "import sqlite3\n",
        "from datetime import datetime\n",
        "import pandas as pd"
      ],
      "metadata": {
        "id": "9zB7s4VtA9sc"
      },
      "execution_count": 2,
      "outputs": []
    },
    {
      "cell_type": "code",
      "source": [
        "  conn = sqlite3.connect('sqlite.db')\n",
        "  curs = conn.cursor()\n",
        "\n",
        "  sql = 'drop table news;'\n",
        "  curs.execute(sql)\n",
        "  conn.commit()\n",
        "  sql = 'drop table stock;'\n",
        "  curs.execute(sql)\n",
        "  conn.commit()\n",
        ""
      ],
      "metadata": {
        "id": "20Dk5De-deor"
      },
      "execution_count": 44,
      "outputs": []
    },
    {
      "cell_type": "code",
      "source": [
        "news = pd.read_csv('news_crawl.csv')\n",
        "#print(news[['time','title','content']])\n",
        "\n",
        "newdata = []\n",
        "for i in range(len(news)):\n",
        "  newdata.append([news['time'][i],news['title'][i],news['content'][i]])\n"
      ],
      "metadata": {
        "colab": {
          "base_uri": "https://localhost:8080/"
        },
        "id": "K5P8vnXIYg_V",
        "outputId": "d9592791-a387-4234-83a5-16b0e231bf2b"
      },
      "execution_count": 60,
      "outputs": [
        {
          "output_type": "stream",
          "name": "stdout",
          "text": [
            "[\"['OUT_LINK']\", \"['“일방적 임금인상안 반대” 삼성노조, 대표 항의 방문에 직원 수백명 집결']\", '[\"  \\\\t\\\\t\\\\t전국삼성전자노동조합이 삼성전자와 노사협의회가 노조를 배제하고 일방적으로 임금인상안에 합의한 것에 항의하기 위해 경계현 DS사업부문장 사장 항의 방문을 시도했다. 수백여명 직원이 자발적으로 항의 방문 행사에 참석해 삼성의 달라진 노조문화를 실감케 했다.1일 전국삼성전자노동조합은 오후 2시부터 화성사업장 부품연구동(DSR) A·B타워 1층 로비에서 일방적인 임금인상안 합의에 항의하기 위해 경계현 DS사업부문장 사장 면담을 시도했다.손우목 위원장, 노조 대의원, 집행부 등이 항의대표단을 꾸렸다. 화성사업장 소속을 직원을 비롯해 여타 사업장에서 근무하는 직원들이 자발적으로 행사에 참석했다.이날 항의 방문에는 수백여명 직원이 노조 활동에 동참했다. DSR 타워 2층에도 상당수 직원이 모여 구호를 함께 외쳤다.전국삼성전자노동조합은 지난 달 29일 회사와 노사협의회가 노조와 합의 없이 일방적으로 평균 임금인상률을 결정했다며 반발하고 있다.삼성전자는 올해 기본 인상률 3.0%, 성과 인상률 2.1% 책정을 확정했다. 작년 4.1%보다 1.0%포인트(P) 인상된 것으로 올해 예상 소비자 물가 인상률(2.6%)의 두 배 수준이라고 회사는 설명했다.노조는 크게 반발했다. 노사협의회가 직원 의견을 제대로 수렴하지 않았고 회사와의 협의에서 노조와 상의 없이 임금협상안을 통과시켰다고 주장하고 있다.\\'근로자 참여 및 협력증진에 관한 법률\\'에 따르면 노사협의회는 법률에 규정된 합법적 기구다. 근로자들이 직접 선출한 위원들이 참여한다. 이 같은 이유로 노조 측 주장이 설득력이 약하다는 지적도 나온다.법률에 따르면 전체 직원 과반으로 구성된 노조가 없을 경우 노사협의회에서 임금 조정을 협의하도록 규정돼 있다.노동부도 \\'노조가 없거나 소수 노조일 경우 비조합원 근로조건에 대해서는 비조합원 의견을 수렴해 결정하는 것이 근로자 보호차원에서 위법하지 않다\\'는 행정해석을 내놓은 적이 있다.노조는 총 6.5% 인상과 재충전 휴가 확대 등 복지조건 확충을 요구해왔다.현재 전국삼성전자노조에는 1일 오전 8시 기준 2만3904명이 가입했다. 삼성전자 노조 중 최대 규모다.노조가 실시하는 쟁의 찬반투표는 오는 5일 24시까지다. 노조는 찬성비율이 높으면 파업 등 정식 쟁의 활동에 돌입할 방침이다.한편 삼성전자에 따르면 항의 방문에는 200여명 직원이 참여했다.  \"]']\n",
            "<class 'str'>\n",
            "적\n"
          ]
        }
      ]
    },
    {
      "cell_type": "code",
      "source": [
        "try:\n",
        "  conn = sqlite3.connect('sqlite.db')\n",
        "  curs = conn.cursor()\n",
        "\n",
        "  #news table create\n",
        "  sql = \"\"\"CREATE TABLE IF NOT EXISTS `news` (\n",
        "\t          `date` DATETIME NOT NULL,\n",
        "\t          `title` TEXT NULL,\n",
        "\t          `contents` MEDIUMTEXT NULL\n",
        "            )\n",
        "            \"\"\"\n",
        "  curs.execute(sql)\n",
        "  print(sql)\n",
        "  conn.commit()\n",
        "\n",
        "  #stock table create\n",
        "  sql = \"\"\"CREATE TABLE IF NOT EXISTS `stock` (\n",
        "            \t`date` DATETIME NOT NULL,\n",
        "            \t`close` INT NULL\n",
        "            )\n",
        "            \"\"\"\n",
        "  curs.execute(sql)\n",
        "  print(sql)\n",
        "  conn.commit()\n",
        "\n",
        "  #Insert Data\n",
        "  stockdata = [\n",
        "      [datetime(2022, 7, 11), 55000],\n",
        "      [datetime(2022, 1, 21), 77000],\n",
        "      [datetime(2022, 7, 11), 55000],\n",
        "      [datetime(2022, 1, 21), 77000],\n",
        "      [datetime(2022, 7, 11), 55000],\n",
        "      [datetime(2022, 1, 21), 77000],\n",
        "      [datetime(2022, 7, 11), 55000],\n",
        "      [datetime(2022, 1, 21), 77000],\n",
        "      [datetime(2022, 7, 11), 55000],\n",
        "      [datetime(2022, 1, 21), 77000],\n",
        "      [datetime(2022, 7, 11), 55000],\n",
        "      [datetime(2022, 1, 21), 77000]\n",
        "  ]\n",
        "\n",
        "  sql = \"INSERT INTO news(date, title, contents) VALUES(?, ?, ?)\"\n",
        "  curs.executemany(sql,newdata)\n",
        "  conn.commit()\n",
        "\n",
        "\n",
        "  sql = \"INSERT INTO stock(date, close) VALUES(?, ?)\"\n",
        "  curs.executemany(sql,stockdata)\n",
        "  print('done')\n",
        "  conn.commit()\n",
        "\n",
        "except sqlite3.Error as error:\n",
        "  print(\"Failed to insert data into sqlite table\", error)"
      ],
      "metadata": {
        "colab": {
          "base_uri": "https://localhost:8080/"
        },
        "id": "ap_ZtjQyB5uq",
        "outputId": "662948a1-0bc0-41b5-f8fd-03bd48b36672"
      },
      "execution_count": 45,
      "outputs": [
        {
          "output_type": "stream",
          "name": "stdout",
          "text": [
            "CREATE TABLE IF NOT EXISTS `news` (\n",
            "\t          `date` DATETIME NOT NULL,\n",
            "\t          `title` TEXT NULL,\n",
            "\t          `contents` MEDIUMTEXT NULL\n",
            "            )\n",
            "            \n",
            "CREATE TABLE IF NOT EXISTS `stock` (\n",
            "            \t`date` DATETIME NOT NULL,\n",
            "            \t`close` INT NULL\n",
            "            )\n",
            "            \n",
            "done\n"
          ]
        }
      ]
    },
    {
      "cell_type": "code",
      "source": [
        "try:\n",
        "  conn = sqlite3.connect('sqlite.db')\n",
        "  curs = conn.cursor()\n",
        "\n",
        "  sql = 'select * from news'\n",
        "  curs.execute(sql)\n",
        "  columns = [desc[0] for desc in curs.description]\n",
        "  show = pd.DataFrame(curs.fetchall(), columns=columns)\n",
        "\n",
        "  print(show)\n",
        "  print(show['date'].dtypes)\n",
        "\n",
        "  sql = 'select * from stock'\n",
        "  curs.execute(sql)\n",
        "  columns = [desc[0] for desc in curs.description]\n",
        "  show = pd.DataFrame(curs.fetchall(), columns=columns)\n",
        "\n",
        "  print(show)\n",
        "\n",
        "except sqlite3.Error as error:\n",
        "  print(\"Failed to insert data into sqlite table\", error)"
      ],
      "metadata": {
        "colab": {
          "base_uri": "https://localhost:8080/"
        },
        "id": "JsIwXLVLOq0G",
        "outputId": "ad929567-2934-494a-a945-9f1b341eb121"
      },
      "execution_count": 46,
      "outputs": [
        {
          "output_type": "stream",
          "name": "stdout",
          "text": [
            "            date                                          title  \\\n",
            "0   ['OUT_LINK']   ['“일방적 임금인상안 반대” 삼성노조, 대표 항의 방문에 직원 수백명 집결']   \n",
            "1   ['OUT_LINK']           ['삼성전자, 올해 임금 5.1% 인상 결정에 노조 반발 지속']   \n",
            "2   ['OUT_LINK']      ['\"업계 최초\"…BMW에 들어간 삼성 \\'이색 디스플레이\\' [영상]']   \n",
            "3   ['OUT_LINK']        ['‘신분증’ 품은 갤럭시…10·20세대 겨냥 ‘삼성월렛’ 프로모션']   \n",
            "4   ['OUT_LINK']             ['삼성전자, 10대·20대 이용자 대상 삼성월렛 프로모션']   \n",
            "5   ['OUT_LINK']  ['\"충전카드 발급 시 5000원\"…\\'삼성월렛\\', 1020 맞춤형 프로모션']   \n",
            "6   ['OUT_LINK']             ['삼성전자, 10대·20대 이용자 대상 삼성월렛 프로모션']   \n",
            "7   ['OUT_LINK']                 [\"삼성, 삼성월렛으로 1020세대 공략 '잰걸음'\"]   \n",
            "8   ['OUT_LINK']      [\"삼성, '삼성월렛'서 토스·CU·배라 등 1020 맞춤형 혜택 제공\"]   \n",
            "9   ['OUT_LINK']                   ['삼성월렛, 1020세대 맞춤형 프로모션 실시']   \n",
            "10  ['OUT_LINK']         ['\"1020이라면 혜택 챙기세요\"…삼성월렛, 맞춤 프로모션 실시']   \n",
            "11  ['OUT_LINK']                 ['[기획] 경계 넘는 삼성금융… 은행·보험 초긴장']   \n",
            "12  ['OUT_LINK']        ['[단독] 삼성, SSD 가격 25% 파격 인상…낸드 수요 대폭발']   \n",
            "13  ['OUT_LINK']     ['삼성전자·SK하이닉스 매수 타이밍?....다시 찾아온 ‘반도체의 봄’']   \n",
            "14  ['OUT_LINK']      [\"[단독] 알리, 강남 파르나스타워에 새둥지…한국 공략 '가속 페달'\"]   \n",
            "15  ['OUT_LINK']                ['삼성, 마하-2 준비…\"추론칩 시장 선점 나선다\"']   \n",
            "\n",
            "                                             contents  \n",
            "0   [\"  \\t\\t\\t전국삼성전자노동조합이 삼성전자와 노사협의회가 노조를 배제하고 일방...  \n",
            "1   ['  [서울=뉴시스]이현주 기자 = 삼성전자가 노사협의회와 임금조정 협의를 거쳐 ...  \n",
            "2   ['  미니, 10년 만의 완전 변경 모델 공개1일부터 사전 예약…1회 충전시 최대...  \n",
            "3   [\"  [이코노미스트 정두용 기자] 삼성전자가 ‘삼성월렛’ 프로모션을 1일 시작했다...  \n",
            "4   ['  (서울=연합뉴스) 오규진 기자 = 삼성전자가 10대·20대 이용자를 대상으로...  \n",
            "5   [\"  (서울=뉴스1) 김승준 기자 = 삼성전자(005930)가 10~20대 맞춤형...  \n",
            "6   [\"      (서울=연합뉴스) 삼성전자가 1020세대 고객 맞춤형 '삼성월렛' 프...  \n",
            "7   [\"  삼성전자가 모바일 간편 결제 서비스 '삼성월렛' 주요 기능을 활용해 10·2...  \n",
            "8   ['  토스와 연계해 선불 충전식 카드에 최대 5000원 즉시 충전CU 삼각김밥, ...  \n",
            "9   ['          삼성전자가 1020세대 고객 맞춤형 ‘삼성월렛’ 프로모션을 진...  \n",
            "10  ['  만19세 이하 삼성페이 충전카드 신규발급시 5000원토스 유스카드 등록·결제...  \n",
            "11  ['  삼성, 임베디드 보험 판매 시작건강보험 위주 상품 속속 전환타은행과 서비스 ...  \n",
            "12  ['  델·HPE 등 글로벌 서버 기업AI 대응 스토리지 확충 본격화2주 사이 SS...  \n",
            "13  ['  3월 반도체 수출 117억 달러21개월 만에 최대 수출 기록반도체 활약으로 ...  \n",
            "14  ['  임시 사무실 생활 청산… 여름 입주대규모 직원 채용도 발맞춰 진행 중중국 e...  \n",
            "15  ['  마하-2 개발 의지…네이버 검증에 신뢰도 향상해야삼성, AI 추론칩 시장 주...  \n",
            "object\n",
            "                   date  close\n",
            "0   2022-07-11 00:00:00  55000\n",
            "1   2022-01-21 00:00:00  77000\n",
            "2   2022-07-11 00:00:00  55000\n",
            "3   2022-01-21 00:00:00  77000\n",
            "4   2022-07-11 00:00:00  55000\n",
            "5   2022-01-21 00:00:00  77000\n",
            "6   2022-07-11 00:00:00  55000\n",
            "7   2022-01-21 00:00:00  77000\n",
            "8   2022-07-11 00:00:00  55000\n",
            "9   2022-01-21 00:00:00  77000\n",
            "10  2022-07-11 00:00:00  55000\n",
            "11  2022-01-21 00:00:00  77000\n"
          ]
        }
      ]
    },
    {
      "cell_type": "code",
      "source": [],
      "metadata": {
        "id": "X1IPDKX3QSFN"
      },
      "execution_count": null,
      "outputs": []
    }
  ]
}